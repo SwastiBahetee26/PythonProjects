{
 "cells": [
  {
   "cell_type": "markdown",
   "id": "3ea97ab3-889a-45b5-95a3-62225d4a5a26",
   "metadata": {},
   "source": [
    "BMI Calculator"
   ]
  },
  {
   "cell_type": "markdown",
   "id": "670e0a35-3844-4b7b-abe1-790211fa1252",
   "metadata": {},
   "source": [
    "Code"
   ]
  },
  {
   "cell_type": "code",
   "execution_count": null,
   "id": "16ad6da9-8d3a-4245-aca2-9d75c5314ff0",
   "metadata": {},
   "outputs": [],
   "source": [
    "name = input(\"Enter you name: \")\n",
    "\n",
    "weight = int(input(\"Enter your weight in pounds: \"))\n",
    "\n",
    "height = int(input(\"Enter your height in inches: \"))\n",
    "\n",
    "BMI = (weight * 703) / (height * height)\n",
    "\n",
    "print(BMI)\n",
    "\n",
    "if BMI > 0:\n",
    "    if BMI < 18.5:\n",
    "        print(name + \", you are underweight\")\n",
    "    elif BMI <= 24.9:\n",
    "        print(name + \", you are normal weight\")\n",
    "    elif BMI <= 29.9:\n",
    "        print(name + \", you are overweight\")\n",
    "    elif BMI <= 34.9:\n",
    "        print(name + \", you are obese\")\n",
    "    elif BMI <= 39.9:\n",
    "        print(name + \", you are severely obese\")\n",
    "    else:\n",
    "        print(name + \", you are over morbidly obese\")\n",
    "else:\n",
    "    print(name + \", enter valid inputs\")"
   ]
  },
  {
   "cell_type": "markdown",
   "id": "09872641-2bc0-4750-ac10-9850250f1131",
   "metadata": {},
   "source": []
  },
  {
   "cell_type": "code",
   "execution_count": null,
   "id": "791d8af8-2f15-4890-99ba-818435f4f742",
   "metadata": {},
   "outputs": [],
   "source": []
  },
  {
   "cell_type": "markdown",
   "id": "d9dd9af7-3340-4b7a-a183-4b70d011556b",
   "metadata": {},
   "source": [
    "Data"
   ]
  },
  {
   "cell_type": "code",
   "execution_count": 23,
   "id": "71321139-cd18-4b96-8e05-833dd8da509f",
   "metadata": {},
   "outputs": [],
   "source": [
    "#BMI = (weight in pounds x 703) / (height in inches x height in inches)"
   ]
  },
  {
   "cell_type": "code",
   "execution_count": null,
   "id": "081ee46a-9a12-498f-935e-f243fd1e03f4",
   "metadata": {},
   "outputs": [],
   "source": [
    "# Under 18.5\tUnderweight\tMinimal\n",
    "# 18.5 - 24.9\tNormal Weight\tMinimal\n",
    "# 25 - 29.9\tOverweight\tIncreased\n",
    "# 30 - 34.9\tObese\tHigh\n",
    "# 35 - 39.9\tSeverely Obese\tVery High\n",
    "# 40 and over\tMorbidly Obese\tExtremely High"
   ]
  },
  {
   "cell_type": "code",
   "execution_count": null,
   "id": "b933c5e5-95c9-46c9-a214-73d0bc02e29d",
   "metadata": {},
   "outputs": [],
   "source": []
  },
  {
   "cell_type": "code",
   "execution_count": null,
   "id": "5e7cbdd5-7e09-4d9e-97aa-bca33e81223d",
   "metadata": {},
   "outputs": [],
   "source": []
  }
 ],
 "metadata": {
  "kernelspec": {
   "display_name": "Python 3 (ipykernel)",
   "language": "python",
   "name": "python3"
  },
  "language_info": {
   "codemirror_mode": {
    "name": "ipython",
    "version": 3
   },
   "file_extension": ".py",
   "mimetype": "text/x-python",
   "name": "python",
   "nbconvert_exporter": "python",
   "pygments_lexer": "ipython3",
   "version": "3.12.4"
  }
 },
 "nbformat": 4,
 "nbformat_minor": 5
}
